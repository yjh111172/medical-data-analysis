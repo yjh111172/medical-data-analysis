{
  "nbformat": 4,
  "nbformat_minor": 0,
  "metadata": {
    "colab": {
      "provenance": [],
      "include_colab_link": true
    },
    "kernelspec": {
      "name": "python3",
      "display_name": "Python 3"
    },
    "language_info": {
      "name": "python"
    }
  },
  "cells": [
    {
      "cell_type": "markdown",
      "metadata": {
        "id": "view-in-github",
        "colab_type": "text"
      },
      "source": [
        "<a href=\"https://colab.research.google.com/github/yjh111172/medical-data-analysis/blob/main/04_statistical_significance.ipynb\" target=\"_parent\"><img src=\"https://colab.research.google.com/assets/colab-badge.svg\" alt=\"Open In Colab\"/></a>"
      ]
    },
    {
      "cell_type": "markdown",
      "source": [
        "# 가설 검증\n",
        "## p-value 계산\n",
        "- 동전을 10번 던졌을 때 8번 앞면이 나온 것을 보고 이 동전은 앞면이 뒷면보다 자주 나온다라는 대립 가설을 세움\n",
        "- 귀무가설 : 위 사실은 우연이고 가끔씩 그런 결과가 나온다. 이 동전은 앞면이 나올 확률이 ½인 보통 동전이다.\n",
        "- 10번씩 1000회 반복 시 10번 중 8번 앞면이 나온 회수"
      ],
      "metadata": {
        "id": "mXjo5Ro4xHM2"
      }
    },
    {
      "cell_type": "code",
      "execution_count": null,
      "metadata": {
        "id": "qXvsHrgsw_Ug"
      },
      "outputs": [],
      "source": [
        "import numpy as np\n",
        "np.random.seed(1000)"
      ]
    },
    {
      "cell_type": "code",
      "source": [
        "# 이항분포\n",
        "binomial_example = np.random.binomial(10, 0.5, 10) # 1~10까지 0.5 확률의 10번 시행 이항 분포\n",
        "binomial_example"
      ],
      "metadata": {
        "colab": {
          "base_uri": "https://localhost:8080/"
        },
        "id": "wZcU7H8vyJb6",
        "outputId": "2fe1cbfa-3ce6-47d5-b467-9cb159076274"
      },
      "execution_count": null,
      "outputs": [
        {
          "output_type": "execute_result",
          "data": {
            "text/plain": [
              "array([6, 3, 8, 5, 7, 4, 2, 5, 4, 7])"
            ]
          },
          "metadata": {},
          "execution_count": 2
        }
      ]
    },
    {
      "cell_type": "code",
      "source": [
        "coin_test = np.random.binomial(10, 0.5, 1000) # 이항 분포\n",
        "coin_test"
      ],
      "metadata": {
        "colab": {
          "base_uri": "https://localhost:8080/"
        },
        "id": "x8sNAtFKyafB",
        "outputId": "55f8b416-9435-4f3d-bf90-19b5563a08de"
      },
      "execution_count": null,
      "outputs": [
        {
          "output_type": "execute_result",
          "data": {
            "text/plain": [
              "array([ 4,  6,  5,  4,  6,  3,  7,  8,  7,  5,  2,  8,  4,  6,  4,  2,  7,\n",
              "        6,  6,  5,  7,  7,  1,  3,  4,  3,  6,  5,  7,  4,  5,  2,  6,  5,\n",
              "        3,  7,  7,  3,  2,  5,  5,  4,  6,  4,  5,  5,  5,  3,  4,  3,  4,\n",
              "        4,  5,  5,  5,  4,  5,  7,  7,  3,  4,  5,  6,  6,  5,  5,  6,  5,\n",
              "        7,  3,  4,  8,  6,  7,  4,  6,  4,  5,  4,  5,  6,  4,  5,  5,  7,\n",
              "        6,  6,  4,  5,  2,  3,  7,  3,  7,  6,  5,  6,  3,  6,  6,  5,  5,\n",
              "        5,  5,  6,  4,  3,  8,  5,  6,  6,  5,  3,  4,  5,  5,  6,  4,  5,\n",
              "        7,  6,  3,  3,  6,  5,  8,  6,  6,  4,  5,  6,  1,  5,  5,  4,  4,\n",
              "        7,  2,  4,  4,  8,  2,  5,  4,  6,  6,  6,  7,  8,  3,  3,  2,  7,\n",
              "        8,  4,  3,  3,  7,  5,  4,  6,  6,  5,  2,  4,  7,  3,  3,  6,  3,\n",
              "        3,  4,  4,  4,  6,  4,  3,  3,  4,  4,  7,  5,  4,  9,  5,  7,  4,\n",
              "        4,  8,  3,  7,  8,  4,  7,  7, 10,  3,  5,  6,  6,  7,  2,  8,  3,\n",
              "        2,  8,  4,  7,  2,  2,  3,  6,  4,  5,  8,  4,  4,  5,  4,  5,  5,\n",
              "        4,  2,  6,  7,  4,  5,  3,  6,  4,  3,  3,  4,  6,  5,  6,  3,  4,\n",
              "        6,  1,  4,  7,  6,  4,  6,  3,  5,  5,  8,  6,  4,  5,  4,  8,  5,\n",
              "        3,  8,  7,  5,  2,  7,  7,  6,  4,  7,  2,  4,  4,  7,  1,  6,  5,\n",
              "        4,  3,  3,  6,  2,  3,  5,  5,  2,  5,  3,  3,  6,  4,  6,  8,  6,\n",
              "        9,  4,  5,  5,  5,  6,  4,  5,  6,  5,  6,  5,  6,  8,  3,  6,  5,\n",
              "        4,  8,  3,  5,  6,  4,  4,  5,  7,  4,  7,  4,  6,  7,  3,  6,  4,\n",
              "        5,  6,  5,  5,  4,  3,  3,  3,  5,  7,  3,  5,  3,  6,  4,  3,  4,\n",
              "        4,  6,  6,  2,  6,  5,  4,  8,  7,  3,  6,  3,  4,  8,  5,  4,  4,\n",
              "        7,  6,  7,  6,  4,  4,  5,  5,  3,  4,  2,  5,  5,  8,  4,  5,  5,\n",
              "        8,  3,  5,  5,  5,  6,  3,  3,  2,  5,  7,  5,  5,  7,  3,  4,  3,\n",
              "        5,  2,  3,  1,  6,  5,  3,  2,  8,  5,  3,  7,  8,  7,  6,  5,  6,\n",
              "        4,  5,  6,  7,  5,  7,  4,  6,  7,  5,  6,  7,  4,  5,  2,  5,  4,\n",
              "        6,  3,  6,  7,  4,  6,  7,  7,  4,  4,  7,  6,  3,  4,  5,  5,  5,\n",
              "        5,  5,  4,  5,  4,  9,  7,  7,  5,  6,  3,  7,  4,  7,  4,  2,  7,\n",
              "        6,  4,  4,  7,  7,  5,  2,  7,  5,  6,  5,  3,  7,  7,  3,  4,  4,\n",
              "        5,  4,  3,  5,  7,  7,  4,  3,  6,  4,  7,  7,  6,  4,  3,  5,  7,\n",
              "        6,  4,  4,  7,  6,  5,  7,  3,  3,  7,  5,  6,  5,  5,  6,  4,  6,\n",
              "        3,  8,  3,  3,  2,  5,  6,  5,  4,  6,  3,  5,  7,  6,  6,  6,  2,\n",
              "        5,  6,  5,  5,  7,  3,  4,  6,  5,  5,  4,  5,  6,  2,  8,  7,  7,\n",
              "        4,  3,  9,  3,  6,  5,  5,  6,  4,  3,  3,  5,  4,  6,  5,  5,  6,\n",
              "        5,  3,  6,  8,  6,  5,  8,  3,  3,  6,  6,  3,  6,  7,  5,  8,  4,\n",
              "        5,  6,  4,  4,  6,  4,  3,  6,  5,  6,  5,  5,  4,  7,  6,  4,  3,\n",
              "        4,  5,  3,  6,  5,  7,  5,  7,  5,  5,  3,  2,  4,  3,  4,  3,  6,\n",
              "        5,  7,  8,  8,  9,  3,  3,  0,  7,  4,  5,  4,  3,  3,  5,  7,  3,\n",
              "        8,  1,  7,  2,  3,  6,  6,  4,  5,  3,  4,  5,  3,  5,  5,  3,  4,\n",
              "        6,  6,  6,  3,  6,  5,  7,  5,  4,  5,  2,  4,  4,  3,  5,  5,  1,\n",
              "        7,  3,  1,  7,  5,  7,  5, 10,  5,  6,  7,  3,  6,  5,  2,  6,  5,\n",
              "        4,  5,  5,  6,  5,  5,  5,  6,  8,  7,  6,  5,  6,  4,  4,  6,  4,\n",
              "        5,  4,  5,  5,  6,  4,  4,  4,  4,  7,  5,  7,  4,  3,  3,  6,  6,\n",
              "        5,  6,  6,  9,  5,  6,  4,  5,  6,  7,  6,  7,  5,  5,  5,  7,  5,\n",
              "        4,  5,  5,  6,  6,  5,  5,  3,  6,  6,  4,  5,  5,  4,  3,  6,  5,\n",
              "        3,  5,  4,  6,  6,  1,  7,  3,  3,  3,  4,  8,  3,  6,  6,  3,  5,\n",
              "        7,  5,  4,  2,  4,  4,  4,  5,  2,  4,  3,  6,  5,  5,  2,  4,  2,\n",
              "        5,  8,  5,  2,  6,  7,  6,  5,  4,  3,  7,  3,  4,  1,  7,  6,  6,\n",
              "        7,  5,  7,  5,  7,  3,  4,  4,  3,  5,  7,  3,  1,  6,  7,  5,  7,\n",
              "        6,  5,  6,  1,  6,  4,  4,  7,  5,  5,  7,  5,  1,  3,  4,  7,  6,\n",
              "        3,  6,  6,  3,  5,  5,  5,  7,  3,  5,  6,  5,  5,  4,  8,  7,  4,\n",
              "        5,  4,  7,  4,  7,  7,  6,  6,  5,  8,  7,  5,  7,  7,  4,  5,  6,\n",
              "        5,  3,  5,  7,  5,  5,  5,  5,  5,  7,  5,  4,  3,  5,  7,  2,  3,\n",
              "        5,  4,  3,  5,  4,  5,  3,  6,  1,  6,  4,  3,  8,  5,  3,  3,  5,\n",
              "        3,  8,  3,  7,  6,  4,  4,  6,  3,  5,  5,  5,  7,  7,  3,  5,  6,\n",
              "        9,  5,  3,  3,  3,  5,  9,  5,  5,  4,  8,  5,  3,  8,  3,  7,  4,\n",
              "        8,  6,  3,  4,  4,  2,  7,  5,  4,  6,  5,  9,  4,  4,  5,  4,  4,\n",
              "        5,  5,  7,  6,  6,  8,  6,  3,  3,  7,  5,  5,  4,  2,  4,  2,  4,\n",
              "        3,  4,  5,  3,  6,  8,  2,  5,  6,  4,  4,  7,  5,  7,  5,  8,  8,\n",
              "        3,  5,  4,  8,  3,  5,  6,  4,  3,  5,  4,  3,  4,  4])"
            ]
          },
          "metadata": {},
          "execution_count": 3
        }
      ]
    },
    {
      "cell_type": "code",
      "source": [
        "result = sum(1 for x in coin_test if x >= 8) # 8 이상인 회수 카운트\n",
        "result"
      ],
      "metadata": {
        "colab": {
          "base_uri": "https://localhost:8080/"
        },
        "id": "uRPEy00RzBw_",
        "outputId": "c18cbb85-36d1-4549-d35a-81a9ba82bae9"
      },
      "execution_count": null,
      "outputs": [
        {
          "output_type": "execute_result",
          "data": {
            "text/plain": [
              "59"
            ]
          },
          "metadata": {},
          "execution_count": 4
        }
      ]
    },
    {
      "cell_type": "code",
      "source": [
        "p_value = result / 1000\n",
        "p_value"
      ],
      "metadata": {
        "colab": {
          "base_uri": "https://localhost:8080/"
        },
        "id": "IDlmB0vEznCS",
        "outputId": "14cc645d-45b9-42aa-e0a8-33f90edc5152"
      },
      "execution_count": null,
      "outputs": [
        {
          "output_type": "execute_result",
          "data": {
            "text/plain": [
              "0.059"
            ]
          },
          "metadata": {},
          "execution_count": 5
        }
      ]
    },
    {
      "cell_type": "markdown",
      "source": [
        "- 이 결과는 (유의하다)\n",
        "\n"
      ],
      "metadata": {
        "id": "Qg-Igk3kzs30"
      }
    },
    {
      "cell_type": "code",
      "source": [
        "from google.colab import drive\n",
        "drive.mount('/content/drive')"
      ],
      "metadata": {
        "id": "SfR_JdRk04Dh"
      },
      "execution_count": null,
      "outputs": []
    },
    {
      "cell_type": "markdown",
      "source": [
        "## CDF를 이용한 p-value 구하기"
      ],
      "metadata": {
        "id": "olJo1lIpzUkX"
      }
    },
    {
      "cell_type": "code",
      "source": [
        "from scipy.stats import binom\n",
        "n, p = 10, 0.5\n",
        "rv = binom(n, p) # rv : random variable\n",
        "result = rv.cdf(7)\n",
        "p_value_cdf = 1 - result\n",
        "p_value_cdf"
      ],
      "metadata": {
        "colab": {
          "base_uri": "https://localhost:8080/"
        },
        "id": "1Fy5nYF_101z",
        "outputId": "ca7c6550-db59-45e1-a75b-922c6ba8619c"
      },
      "execution_count": null,
      "outputs": [
        {
          "output_type": "execute_result",
          "data": {
            "text/plain": [
              "np.float64(0.0546875)"
            ]
          },
          "metadata": {},
          "execution_count": 9
        }
      ]
    },
    {
      "cell_type": "markdown",
      "source": [],
      "metadata": {
        "id": "V4UDSg1ryZlN"
      }
    },
    {
      "cell_type": "markdown",
      "source": [
        "# 카이제곱 검정"
      ],
      "metadata": {
        "id": "wMsri0jjjm2Y"
      }
    },
    {
      "cell_type": "code",
      "source": [
        "from scipy.stats import chi2_contingency as chi2\n",
        "observation = ([100,400], [100,1400]) # tuple\n",
        "chi2_result, p, df, expectation = chi2(observation, correction=False)\n",
        "print(f\"카이제곱 검정 통계량 : {chi2_result}, p-value : {p}, df : {df}\")\n",
        "print(\"expectation\")\n",
        "print(expectation)"
      ],
      "metadata": {
        "colab": {
          "base_uri": "https://localhost:8080/"
        },
        "id": "zNjU4ReOjpmV",
        "outputId": "bcfb7386-a1b6-4dae-e292-c655ab876f63"
      },
      "execution_count": null,
      "outputs": [
        {
          "output_type": "stream",
          "name": "stdout",
          "text": [
            "카이제곱 검정 통계량 : 74.07407407407408, p-value : 7.524003528881426e-18, df : 1\n",
            "expectation\n",
            "[[  50.  450.]\n",
            " [ 150. 1350.]]\n"
          ]
        }
      ]
    },
    {
      "cell_type": "markdown",
      "source": [
        "# t-test\n",
        "- equal_val True : Student's t-test, False : Welch's t-test"
      ],
      "metadata": {
        "id": "Iy5rDMZBlTvC"
      }
    },
    {
      "cell_type": "code",
      "source": [
        "from scipy import stats\n",
        "X_bar_1, s1, n1 = 100, 20, 100\n",
        "X_bar_2, s2, n2 = 80, 30, 300\n",
        "students_tt = stats.ttest_ind_from_stats(X_bar_1,s1,n1,X_bar_2,s2,n2,equal_var=True)\n",
        "welchs_tt = stats.ttest_ind_from_stats(X_bar_1,s1,n1,X_bar_2,s2,n2,equal_var=False)\n",
        "print(students_tt)\n",
        "print(welchs_tt)"
      ],
      "metadata": {
        "colab": {
          "base_uri": "https://localhost:8080/"
        },
        "id": "TutgtVY1trZ4",
        "outputId": "54726d8e-ef08-4052-9142-eec8205e50bd"
      },
      "execution_count": null,
      "outputs": [
        {
          "output_type": "stream",
          "name": "stdout",
          "text": [
            "Ttest_indResult(statistic=np.float64(6.2191903391234815), pvalue=np.float64(1.2650376446939409e-09))\n",
            "Ttest_indResult(statistic=np.float64(7.559289460184544), pvalue=np.float64(7.260967576525536e-13))\n"
          ]
        }
      ]
    }
  ]
}