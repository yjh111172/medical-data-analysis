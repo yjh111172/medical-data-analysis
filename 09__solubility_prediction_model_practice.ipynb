{
  "cells": [
    {
      "cell_type": "markdown",
      "metadata": {
        "id": "view-in-github",
        "colab_type": "text"
      },
      "source": [
        "<a href=\"https://colab.research.google.com/github/yjh111172/medical-data-analysis/blob/main/09__solubility_prediction_model_practice.ipynb\" target=\"_parent\"><img src=\"https://colab.research.google.com/assets/colab-badge.svg\" alt=\"Open In Colab\"/></a>"
      ]
    },
    {
      "cell_type": "markdown",
      "metadata": {
        "id": "ULIoIvZSR_2u"
      },
      "source": [
        "\n",
        "# DeepChem 설치\n",
        "\n",
        "Colab 노트북에 DeepChem 설치\n",
        "\n",
        "tensorflow 기반 모델을 사용할 것이므로 pip install 명령에 [tensorflow]를 추가하여 필요한 종속성도 설치"
      ]
    },
    {
      "cell_type": "code",
      "source": [
        "# DeepChem 설치시 Keras 종속성 버전 일치를 위해 아래 환경 변수 설정 후 import 진행\n",
        "import os\n",
        "os.environ[\"TF_USE_LEGACY_KERAS\"] = '1'"
      ],
      "metadata": {
        "id": "YGT8auJ6Txh7"
      },
      "execution_count": null,
      "outputs": []
    },
    {
      "cell_type": "code",
      "source": [
        "!pip install deepchem[tensorflow]"
      ],
      "metadata": {
        "colab": {
          "base_uri": "https://localhost:8080/"
        },
        "collapsed": true,
        "id": "3hdSxfdOP5j9",
        "outputId": "c678cc78-c43d-488d-b7f0-0fde5207d2df"
      },
      "execution_count": null,
      "outputs": [
        {
          "output_type": "stream",
          "name": "stdout",
          "text": [
            "Requirement already satisfied: deepchem[tensorflow] in /usr/local/lib/python3.11/dist-packages (2.8.0)\n",
            "Requirement already satisfied: joblib in /usr/local/lib/python3.11/dist-packages (from deepchem[tensorflow]) (1.4.2)\n",
            "Requirement already satisfied: numpy>=1.21 in /usr/local/lib/python3.11/dist-packages (from deepchem[tensorflow]) (2.0.2)\n",
            "Requirement already satisfied: pandas in /usr/local/lib/python3.11/dist-packages (from deepchem[tensorflow]) (2.2.2)\n",
            "Requirement already satisfied: scikit-learn in /usr/local/lib/python3.11/dist-packages (from deepchem[tensorflow]) (1.6.1)\n",
            "Requirement already satisfied: sympy in /usr/local/lib/python3.11/dist-packages (from deepchem[tensorflow]) (1.13.1)\n",
            "Requirement already satisfied: scipy>=1.10.1 in /usr/local/lib/python3.11/dist-packages (from deepchem[tensorflow]) (1.15.2)\n",
            "Requirement already satisfied: rdkit in /usr/local/lib/python3.11/dist-packages (from deepchem[tensorflow]) (2025.3.1)\n",
            "Requirement already satisfied: tensorflow in /usr/local/lib/python3.11/dist-packages (from deepchem[tensorflow]) (2.18.0)\n",
            "Requirement already satisfied: tensorflow-probability in /usr/local/lib/python3.11/dist-packages (from deepchem[tensorflow]) (0.25.0)\n",
            "Requirement already satisfied: tensorflow-addons in /usr/local/lib/python3.11/dist-packages (from deepchem[tensorflow]) (0.23.0)\n",
            "Requirement already satisfied: python-dateutil>=2.8.2 in /usr/local/lib/python3.11/dist-packages (from pandas->deepchem[tensorflow]) (2.9.0.post0)\n",
            "Requirement already satisfied: pytz>=2020.1 in /usr/local/lib/python3.11/dist-packages (from pandas->deepchem[tensorflow]) (2025.2)\n",
            "Requirement already satisfied: tzdata>=2022.7 in /usr/local/lib/python3.11/dist-packages (from pandas->deepchem[tensorflow]) (2025.2)\n",
            "Requirement already satisfied: Pillow in /usr/local/lib/python3.11/dist-packages (from rdkit->deepchem[tensorflow]) (11.2.1)\n",
            "Requirement already satisfied: threadpoolctl>=3.1.0 in /usr/local/lib/python3.11/dist-packages (from scikit-learn->deepchem[tensorflow]) (3.6.0)\n",
            "Requirement already satisfied: mpmath<1.4,>=1.1.0 in /usr/local/lib/python3.11/dist-packages (from sympy->deepchem[tensorflow]) (1.3.0)\n",
            "Requirement already satisfied: absl-py>=1.0.0 in /usr/local/lib/python3.11/dist-packages (from tensorflow->deepchem[tensorflow]) (1.4.0)\n",
            "Requirement already satisfied: astunparse>=1.6.0 in /usr/local/lib/python3.11/dist-packages (from tensorflow->deepchem[tensorflow]) (1.6.3)\n",
            "Requirement already satisfied: flatbuffers>=24.3.25 in /usr/local/lib/python3.11/dist-packages (from tensorflow->deepchem[tensorflow]) (25.2.10)\n",
            "Requirement already satisfied: gast!=0.5.0,!=0.5.1,!=0.5.2,>=0.2.1 in /usr/local/lib/python3.11/dist-packages (from tensorflow->deepchem[tensorflow]) (0.6.0)\n",
            "Requirement already satisfied: google-pasta>=0.1.1 in /usr/local/lib/python3.11/dist-packages (from tensorflow->deepchem[tensorflow]) (0.2.0)\n",
            "Requirement already satisfied: libclang>=13.0.0 in /usr/local/lib/python3.11/dist-packages (from tensorflow->deepchem[tensorflow]) (18.1.1)\n",
            "Requirement already satisfied: opt-einsum>=2.3.2 in /usr/local/lib/python3.11/dist-packages (from tensorflow->deepchem[tensorflow]) (3.4.0)\n",
            "Requirement already satisfied: packaging in /usr/local/lib/python3.11/dist-packages (from tensorflow->deepchem[tensorflow]) (24.2)\n",
            "Requirement already satisfied: protobuf!=4.21.0,!=4.21.1,!=4.21.2,!=4.21.3,!=4.21.4,!=4.21.5,<6.0.0dev,>=3.20.3 in /usr/local/lib/python3.11/dist-packages (from tensorflow->deepchem[tensorflow]) (5.29.4)\n",
            "Requirement already satisfied: requests<3,>=2.21.0 in /usr/local/lib/python3.11/dist-packages (from tensorflow->deepchem[tensorflow]) (2.32.3)\n",
            "Requirement already satisfied: setuptools in /usr/local/lib/python3.11/dist-packages (from tensorflow->deepchem[tensorflow]) (75.2.0)\n",
            "Requirement already satisfied: six>=1.12.0 in /usr/local/lib/python3.11/dist-packages (from tensorflow->deepchem[tensorflow]) (1.17.0)\n",
            "Requirement already satisfied: termcolor>=1.1.0 in /usr/local/lib/python3.11/dist-packages (from tensorflow->deepchem[tensorflow]) (3.1.0)\n",
            "Requirement already satisfied: typing-extensions>=3.6.6 in /usr/local/lib/python3.11/dist-packages (from tensorflow->deepchem[tensorflow]) (4.13.2)\n",
            "Requirement already satisfied: wrapt>=1.11.0 in /usr/local/lib/python3.11/dist-packages (from tensorflow->deepchem[tensorflow]) (1.17.2)\n",
            "Requirement already satisfied: grpcio<2.0,>=1.24.3 in /usr/local/lib/python3.11/dist-packages (from tensorflow->deepchem[tensorflow]) (1.71.0)\n",
            "Requirement already satisfied: tensorboard<2.19,>=2.18 in /usr/local/lib/python3.11/dist-packages (from tensorflow->deepchem[tensorflow]) (2.18.0)\n",
            "Requirement already satisfied: keras>=3.5.0 in /usr/local/lib/python3.11/dist-packages (from tensorflow->deepchem[tensorflow]) (3.8.0)\n",
            "Requirement already satisfied: h5py>=3.11.0 in /usr/local/lib/python3.11/dist-packages (from tensorflow->deepchem[tensorflow]) (3.13.0)\n",
            "Requirement already satisfied: ml-dtypes<0.5.0,>=0.4.0 in /usr/local/lib/python3.11/dist-packages (from tensorflow->deepchem[tensorflow]) (0.4.1)\n",
            "Requirement already satisfied: tensorflow-io-gcs-filesystem>=0.23.1 in /usr/local/lib/python3.11/dist-packages (from tensorflow->deepchem[tensorflow]) (0.37.1)\n",
            "Requirement already satisfied: typeguard<3.0.0,>=2.7 in /usr/local/lib/python3.11/dist-packages (from tensorflow-addons->deepchem[tensorflow]) (2.13.3)\n",
            "Requirement already satisfied: decorator in /usr/local/lib/python3.11/dist-packages (from tensorflow-probability->deepchem[tensorflow]) (4.4.2)\n",
            "Requirement already satisfied: cloudpickle>=1.3 in /usr/local/lib/python3.11/dist-packages (from tensorflow-probability->deepchem[tensorflow]) (3.1.1)\n",
            "Requirement already satisfied: dm-tree in /usr/local/lib/python3.11/dist-packages (from tensorflow-probability->deepchem[tensorflow]) (0.1.9)\n",
            "Requirement already satisfied: wheel<1.0,>=0.23.0 in /usr/local/lib/python3.11/dist-packages (from astunparse>=1.6.0->tensorflow->deepchem[tensorflow]) (0.45.1)\n",
            "Requirement already satisfied: rich in /usr/local/lib/python3.11/dist-packages (from keras>=3.5.0->tensorflow->deepchem[tensorflow]) (13.9.4)\n",
            "Requirement already satisfied: namex in /usr/local/lib/python3.11/dist-packages (from keras>=3.5.0->tensorflow->deepchem[tensorflow]) (0.0.9)\n",
            "Requirement already satisfied: optree in /usr/local/lib/python3.11/dist-packages (from keras>=3.5.0->tensorflow->deepchem[tensorflow]) (0.15.0)\n",
            "Requirement already satisfied: charset-normalizer<4,>=2 in /usr/local/lib/python3.11/dist-packages (from requests<3,>=2.21.0->tensorflow->deepchem[tensorflow]) (3.4.1)\n",
            "Requirement already satisfied: idna<4,>=2.5 in /usr/local/lib/python3.11/dist-packages (from requests<3,>=2.21.0->tensorflow->deepchem[tensorflow]) (3.10)\n",
            "Requirement already satisfied: urllib3<3,>=1.21.1 in /usr/local/lib/python3.11/dist-packages (from requests<3,>=2.21.0->tensorflow->deepchem[tensorflow]) (2.4.0)\n",
            "Requirement already satisfied: certifi>=2017.4.17 in /usr/local/lib/python3.11/dist-packages (from requests<3,>=2.21.0->tensorflow->deepchem[tensorflow]) (2025.4.26)\n",
            "Requirement already satisfied: markdown>=2.6.8 in /usr/local/lib/python3.11/dist-packages (from tensorboard<2.19,>=2.18->tensorflow->deepchem[tensorflow]) (3.8)\n",
            "Requirement already satisfied: tensorboard-data-server<0.8.0,>=0.7.0 in /usr/local/lib/python3.11/dist-packages (from tensorboard<2.19,>=2.18->tensorflow->deepchem[tensorflow]) (0.7.2)\n",
            "Requirement already satisfied: werkzeug>=1.0.1 in /usr/local/lib/python3.11/dist-packages (from tensorboard<2.19,>=2.18->tensorflow->deepchem[tensorflow]) (3.1.3)\n",
            "Requirement already satisfied: attrs>=18.2.0 in /usr/local/lib/python3.11/dist-packages (from dm-tree->tensorflow-probability->deepchem[tensorflow]) (25.3.0)\n",
            "Requirement already satisfied: MarkupSafe>=2.1.1 in /usr/local/lib/python3.11/dist-packages (from werkzeug>=1.0.1->tensorboard<2.19,>=2.18->tensorflow->deepchem[tensorflow]) (3.0.2)\n",
            "Requirement already satisfied: markdown-it-py>=2.2.0 in /usr/local/lib/python3.11/dist-packages (from rich->keras>=3.5.0->tensorflow->deepchem[tensorflow]) (3.0.0)\n",
            "Requirement already satisfied: pygments<3.0.0,>=2.13.0 in /usr/local/lib/python3.11/dist-packages (from rich->keras>=3.5.0->tensorflow->deepchem[tensorflow]) (2.19.1)\n",
            "Requirement already satisfied: mdurl~=0.1 in /usr/local/lib/python3.11/dist-packages (from markdown-it-py>=2.2.0->rich->keras>=3.5.0->tensorflow->deepchem[tensorflow]) (0.1.2)\n"
          ]
        }
      ]
    },
    {
      "cell_type": "markdown",
      "metadata": {
        "id": "VldqNo7vSMQ9"
      },
      "source": [
        "## 기타 모듈 설치\n",
        "- rdkit 설치\n",
        "- 레거시 옵티마이저 사용을 위한 tf_keras 설치(deepchem ver 2.4.0일 때만)"
      ]
    },
    {
      "cell_type": "code",
      "execution_count": null,
      "metadata": {
        "colab": {
          "base_uri": "https://localhost:8080/"
        },
        "id": "HXKCRS38R3_3",
        "outputId": "72d0e46c-ab6f-411e-b6be-f98f59a9a654"
      },
      "outputs": [
        {
          "output_type": "stream",
          "name": "stdout",
          "text": [
            "Requirement already satisfied: rdkit in /usr/local/lib/python3.11/dist-packages (2025.3.1)\n",
            "Requirement already satisfied: numpy in /usr/local/lib/python3.11/dist-packages (from rdkit) (2.0.2)\n",
            "Requirement already satisfied: Pillow in /usr/local/lib/python3.11/dist-packages (from rdkit) (11.2.1)\n"
          ]
        }
      ],
      "source": [
        "!pip install rdkit"
      ]
    },
    {
      "cell_type": "code",
      "source": [
        "!pip install tf_keras"
      ],
      "metadata": {
        "colab": {
          "base_uri": "https://localhost:8080/"
        },
        "collapsed": true,
        "id": "S2uwS9BxTFIT",
        "outputId": "79591329-567e-421e-f41e-b5477dc11964"
      },
      "execution_count": null,
      "outputs": [
        {
          "output_type": "stream",
          "name": "stdout",
          "text": [
            "Requirement already satisfied: tf_keras in /usr/local/lib/python3.11/dist-packages (2.18.0)\n",
            "Requirement already satisfied: tensorflow<2.19,>=2.18 in /usr/local/lib/python3.11/dist-packages (from tf_keras) (2.18.0)\n",
            "Requirement already satisfied: absl-py>=1.0.0 in /usr/local/lib/python3.11/dist-packages (from tensorflow<2.19,>=2.18->tf_keras) (1.4.0)\n",
            "Requirement already satisfied: astunparse>=1.6.0 in /usr/local/lib/python3.11/dist-packages (from tensorflow<2.19,>=2.18->tf_keras) (1.6.3)\n",
            "Requirement already satisfied: flatbuffers>=24.3.25 in /usr/local/lib/python3.11/dist-packages (from tensorflow<2.19,>=2.18->tf_keras) (25.2.10)\n",
            "Requirement already satisfied: gast!=0.5.0,!=0.5.1,!=0.5.2,>=0.2.1 in /usr/local/lib/python3.11/dist-packages (from tensorflow<2.19,>=2.18->tf_keras) (0.6.0)\n",
            "Requirement already satisfied: google-pasta>=0.1.1 in /usr/local/lib/python3.11/dist-packages (from tensorflow<2.19,>=2.18->tf_keras) (0.2.0)\n",
            "Requirement already satisfied: libclang>=13.0.0 in /usr/local/lib/python3.11/dist-packages (from tensorflow<2.19,>=2.18->tf_keras) (18.1.1)\n",
            "Requirement already satisfied: opt-einsum>=2.3.2 in /usr/local/lib/python3.11/dist-packages (from tensorflow<2.19,>=2.18->tf_keras) (3.4.0)\n",
            "Requirement already satisfied: packaging in /usr/local/lib/python3.11/dist-packages (from tensorflow<2.19,>=2.18->tf_keras) (24.2)\n",
            "Requirement already satisfied: protobuf!=4.21.0,!=4.21.1,!=4.21.2,!=4.21.3,!=4.21.4,!=4.21.5,<6.0.0dev,>=3.20.3 in /usr/local/lib/python3.11/dist-packages (from tensorflow<2.19,>=2.18->tf_keras) (5.29.4)\n",
            "Requirement already satisfied: requests<3,>=2.21.0 in /usr/local/lib/python3.11/dist-packages (from tensorflow<2.19,>=2.18->tf_keras) (2.32.3)\n",
            "Requirement already satisfied: setuptools in /usr/local/lib/python3.11/dist-packages (from tensorflow<2.19,>=2.18->tf_keras) (75.2.0)\n",
            "Requirement already satisfied: six>=1.12.0 in /usr/local/lib/python3.11/dist-packages (from tensorflow<2.19,>=2.18->tf_keras) (1.17.0)\n",
            "Requirement already satisfied: termcolor>=1.1.0 in /usr/local/lib/python3.11/dist-packages (from tensorflow<2.19,>=2.18->tf_keras) (3.1.0)\n",
            "Requirement already satisfied: typing-extensions>=3.6.6 in /usr/local/lib/python3.11/dist-packages (from tensorflow<2.19,>=2.18->tf_keras) (4.13.2)\n",
            "Requirement already satisfied: wrapt>=1.11.0 in /usr/local/lib/python3.11/dist-packages (from tensorflow<2.19,>=2.18->tf_keras) (1.17.2)\n",
            "Requirement already satisfied: grpcio<2.0,>=1.24.3 in /usr/local/lib/python3.11/dist-packages (from tensorflow<2.19,>=2.18->tf_keras) (1.71.0)\n",
            "Requirement already satisfied: tensorboard<2.19,>=2.18 in /usr/local/lib/python3.11/dist-packages (from tensorflow<2.19,>=2.18->tf_keras) (2.18.0)\n",
            "Requirement already satisfied: keras>=3.5.0 in /usr/local/lib/python3.11/dist-packages (from tensorflow<2.19,>=2.18->tf_keras) (3.8.0)\n",
            "Requirement already satisfied: numpy<2.1.0,>=1.26.0 in /usr/local/lib/python3.11/dist-packages (from tensorflow<2.19,>=2.18->tf_keras) (2.0.2)\n",
            "Requirement already satisfied: h5py>=3.11.0 in /usr/local/lib/python3.11/dist-packages (from tensorflow<2.19,>=2.18->tf_keras) (3.13.0)\n",
            "Requirement already satisfied: ml-dtypes<0.5.0,>=0.4.0 in /usr/local/lib/python3.11/dist-packages (from tensorflow<2.19,>=2.18->tf_keras) (0.4.1)\n",
            "Requirement already satisfied: tensorflow-io-gcs-filesystem>=0.23.1 in /usr/local/lib/python3.11/dist-packages (from tensorflow<2.19,>=2.18->tf_keras) (0.37.1)\n",
            "Requirement already satisfied: wheel<1.0,>=0.23.0 in /usr/local/lib/python3.11/dist-packages (from astunparse>=1.6.0->tensorflow<2.19,>=2.18->tf_keras) (0.45.1)\n",
            "Requirement already satisfied: rich in /usr/local/lib/python3.11/dist-packages (from keras>=3.5.0->tensorflow<2.19,>=2.18->tf_keras) (13.9.4)\n",
            "Requirement already satisfied: namex in /usr/local/lib/python3.11/dist-packages (from keras>=3.5.0->tensorflow<2.19,>=2.18->tf_keras) (0.0.9)\n",
            "Requirement already satisfied: optree in /usr/local/lib/python3.11/dist-packages (from keras>=3.5.0->tensorflow<2.19,>=2.18->tf_keras) (0.15.0)\n",
            "Requirement already satisfied: charset-normalizer<4,>=2 in /usr/local/lib/python3.11/dist-packages (from requests<3,>=2.21.0->tensorflow<2.19,>=2.18->tf_keras) (3.4.1)\n",
            "Requirement already satisfied: idna<4,>=2.5 in /usr/local/lib/python3.11/dist-packages (from requests<3,>=2.21.0->tensorflow<2.19,>=2.18->tf_keras) (3.10)\n",
            "Requirement already satisfied: urllib3<3,>=1.21.1 in /usr/local/lib/python3.11/dist-packages (from requests<3,>=2.21.0->tensorflow<2.19,>=2.18->tf_keras) (2.4.0)\n",
            "Requirement already satisfied: certifi>=2017.4.17 in /usr/local/lib/python3.11/dist-packages (from requests<3,>=2.21.0->tensorflow<2.19,>=2.18->tf_keras) (2025.4.26)\n",
            "Requirement already satisfied: markdown>=2.6.8 in /usr/local/lib/python3.11/dist-packages (from tensorboard<2.19,>=2.18->tensorflow<2.19,>=2.18->tf_keras) (3.8)\n",
            "Requirement already satisfied: tensorboard-data-server<0.8.0,>=0.7.0 in /usr/local/lib/python3.11/dist-packages (from tensorboard<2.19,>=2.18->tensorflow<2.19,>=2.18->tf_keras) (0.7.2)\n",
            "Requirement already satisfied: werkzeug>=1.0.1 in /usr/local/lib/python3.11/dist-packages (from tensorboard<2.19,>=2.18->tensorflow<2.19,>=2.18->tf_keras) (3.1.3)\n",
            "Requirement already satisfied: MarkupSafe>=2.1.1 in /usr/local/lib/python3.11/dist-packages (from werkzeug>=1.0.1->tensorboard<2.19,>=2.18->tensorflow<2.19,>=2.18->tf_keras) (3.0.2)\n",
            "Requirement already satisfied: markdown-it-py>=2.2.0 in /usr/local/lib/python3.11/dist-packages (from rich->keras>=3.5.0->tensorflow<2.19,>=2.18->tf_keras) (3.0.0)\n",
            "Requirement already satisfied: pygments<3.0.0,>=2.13.0 in /usr/local/lib/python3.11/dist-packages (from rich->keras>=3.5.0->tensorflow<2.19,>=2.18->tf_keras) (2.19.1)\n",
            "Requirement already satisfied: mdurl~=0.1 in /usr/local/lib/python3.11/dist-packages (from markdown-it-py>=2.2.0->rich->keras>=3.5.0->tensorflow<2.19,>=2.18->tf_keras) (0.1.2)\n"
          ]
        }
      ]
    },
    {
      "cell_type": "markdown",
      "source": [
        "## deepchem 버전 확인"
      ],
      "metadata": {
        "id": "iz3kg3nhfF8h"
      }
    },
    {
      "cell_type": "code",
      "execution_count": null,
      "metadata": {
        "colab": {
          "base_uri": "https://localhost:8080/",
          "height": 377
        },
        "id": "r3TejEUSSqNG",
        "outputId": "f3d604fc-3826-4aac-d712-5252d6cf73ce",
        "collapsed": true
      },
      "outputs": [
        {
          "output_type": "stream",
          "name": "stderr",
          "text": [
            "WARNING:deepchem.feat.molecule_featurizers.rdkit_descriptors:No normalization for SPS. Feature removed!\n",
            "WARNING:deepchem.feat.molecule_featurizers.rdkit_descriptors:No normalization for AvgIpc. Feature removed!\n",
            "WARNING:deepchem.feat.molecule_featurizers.rdkit_descriptors:No normalization for NumAmideBonds. Feature removed!\n",
            "WARNING:deepchem.feat.molecule_featurizers.rdkit_descriptors:No normalization for NumAtomStereoCenters. Feature removed!\n",
            "WARNING:deepchem.feat.molecule_featurizers.rdkit_descriptors:No normalization for NumBridgeheadAtoms. Feature removed!\n",
            "WARNING:deepchem.feat.molecule_featurizers.rdkit_descriptors:No normalization for NumHeterocycles. Feature removed!\n",
            "WARNING:deepchem.feat.molecule_featurizers.rdkit_descriptors:No normalization for NumSpiroAtoms. Feature removed!\n",
            "WARNING:deepchem.feat.molecule_featurizers.rdkit_descriptors:No normalization for NumUnspecifiedAtomStereoCenters. Feature removed!\n",
            "WARNING:deepchem.feat.molecule_featurizers.rdkit_descriptors:No normalization for Phi. Feature removed!\n",
            "\u001b[34m\u001b[1mwandb\u001b[0m: \u001b[33mWARNING\u001b[0m W&B installed but not logged in.  Run `wandb login` or set the WANDB_API_KEY env variable.\n",
            "WARNING:tensorflow:From /usr/local/lib/python3.11/dist-packages/tensorflow/python/util/deprecation.py:588: calling function (from tensorflow.python.eager.polymorphic_function.polymorphic_function) with experimental_relax_shapes is deprecated and will be removed in a future version.\n",
            "Instructions for updating:\n",
            "experimental_relax_shapes is deprecated, use reduce_retracing instead\n",
            "\u001b[34m\u001b[1mwandb\u001b[0m: \u001b[33mWARNING\u001b[0m W&B installed but not logged in.  Run `wandb login` or set the WANDB_API_KEY env variable.\n",
            "WARNING:deepchem.models.torch_models:Skipped loading modules with pytorch-geometric dependency, missing a dependency. No module named 'torch_geometric'\n",
            "WARNING:deepchem.models:Skipped loading modules with pytorch-geometric dependency, missing a dependency. cannot import name 'DMPNN' from 'deepchem.models.torch_models' (/usr/local/lib/python3.11/dist-packages/deepchem/models/torch_models/__init__.py)\n",
            "WARNING:deepchem.models:Skipped loading modules with pytorch-lightning dependency, missing a dependency. No module named 'lightning'\n",
            "WARNING:deepchem.models:Skipped loading some Jax models, missing a dependency. No module named 'haiku'\n"
          ]
        },
        {
          "output_type": "execute_result",
          "data": {
            "text/plain": [
              "'2.8.0'"
            ],
            "application/vnd.google.colaboratory.intrinsic+json": {
              "type": "string"
            }
          },
          "metadata": {},
          "execution_count": 5
        }
      ],
      "source": [
        "import deepchem as dc\n",
        "dc.__version__"
      ]
    },
    {
      "cell_type": "markdown",
      "source": [
        "## warning 메시지 생략"
      ],
      "metadata": {
        "id": "HzpVMqr1fREI"
      }
    },
    {
      "cell_type": "code",
      "source": [
        "import warnings\n",
        "warnings.filterwarnings(action='ignore')"
      ],
      "metadata": {
        "id": "T2d763AiYYWf"
      },
      "execution_count": null,
      "outputs": []
    },
    {
      "cell_type": "markdown",
      "source": [
        "# 분자 데이터 피처화"
      ],
      "metadata": {
        "id": "E2OaLiWvbBR8"
      }
    },
    {
      "cell_type": "code",
      "source": [
        "from rdkit import Chem\n",
        "\n",
        "# SMILES와 확장 연결 지문(ECFP)\n",
        "smiles_example = ['C1CCCCC1C', 'O1CCOCC1']\n",
        "mols = [Chem.MolFromSmiles(s) for s in smiles_example] # rdkit 라이브러리를 사용하여 SMILES 문자열을 분자 객체로 변환\n",
        "feat = dc.feat.CircularFingerprint(size=1024)\n",
        "arr = feat.featurize(mols)\n",
        "arr.shape"
      ],
      "metadata": {
        "colab": {
          "base_uri": "https://localhost:8080/"
        },
        "id": "4atDwQNabD-D",
        "outputId": "d880a3b2-dbcd-4366-c742-4ed23746fdff"
      },
      "execution_count": null,
      "outputs": [
        {
          "output_type": "stream",
          "name": "stderr",
          "text": [
            "[19:45:25] DEPRECATION WARNING: please use MorganGenerator\n",
            "[19:45:25] DEPRECATION WARNING: please use MorganGenerator\n"
          ]
        },
        {
          "output_type": "execute_result",
          "data": {
            "text/plain": [
              "(2, 1024)"
            ]
          },
          "metadata": {},
          "execution_count": 8
        }
      ]
    },
    {
      "cell_type": "code",
      "source": [
        "# 분자 표현자\n",
        "feat = dc.feat.RDKitDescriptors()\n",
        "arr = feat.featurize(mols)\n",
        "arr.shape"
      ],
      "metadata": {
        "colab": {
          "base_uri": "https://localhost:8080/"
        },
        "id": "11hadF-JbpG5",
        "outputId": "b5d94284-f768-4b9e-ca74-d835c5cc553a"
      },
      "execution_count": null,
      "outputs": [
        {
          "output_type": "execute_result",
          "data": {
            "text/plain": [
              "(2, 217)"
            ]
          },
          "metadata": {},
          "execution_count": 9
        }
      ]
    },
    {
      "cell_type": "markdown",
      "source": [
        "# 용해도 예측 모델 만들기\n",
        "DeepChem 라이브러리를 사용하여 그래프 합성곱 신경망을 학습시켜 분자의 용해도를 예측하는 실습 진행\n",
        "\n",
        "Delaney 데이터 : 분자의 SMILES 표현과 해당 분자의 용해도 값을 포함함"
      ],
      "metadata": {
        "id": "x-QcnxKJfVeH"
      }
    },
    {
      "cell_type": "markdown",
      "source": [
        "## 데이터 불러오기 및 확인"
      ],
      "metadata": {
        "id": "EViQ8e5tgfxL"
      }
    },
    {
      "cell_type": "code",
      "source": [
        "import deepchem as dc\n",
        "#\n",
        "\n",
        "tasks, datasets, transformers = dc.molnet.load_delaney(featurizer='GraphConv')\n",
        "train_dataset, valid_dataset, test_dataset = datasets"
      ],
      "metadata": {
        "collapsed": true,
        "id": "L5WEk5WbLfWZ"
      },
      "execution_count": null,
      "outputs": []
    },
    {
      "cell_type": "markdown",
      "source": [
        "## 모델 생성 및 훈련"
      ],
      "metadata": {
        "id": "BhlOIPUEYPry"
      }
    },
    {
      "cell_type": "code",
      "execution_count": null,
      "metadata": {
        "colab": {
          "base_uri": "https://localhost:8080/"
        },
        "id": "rXgOTLdBWNKt",
        "outputId": "369666b9-704d-43ea-c038-4c10fb220ec6"
      },
      "outputs": [
        {
          "output_type": "execute_result",
          "data": {
            "text/plain": [
              "0.06512631416320801"
            ]
          },
          "metadata": {},
          "execution_count": 11
        }
      ],
      "source": [
        "# 모델 생성 및 훈련\n",
        "model = dc.models.GraphConvModel(n_tasks=1, mode='regression', dropout=0.2, batch_normalize=False) # n_tasks : 출력층 지정\n",
        "model.fit(train_dataset, nb_epoch=100)"
      ]
    },
    {
      "cell_type": "markdown",
      "source": [
        "## 모델 평가"
      ],
      "metadata": {
        "id": "RHv1h6pMhF5L"
      }
    },
    {
      "cell_type": "code",
      "source": [
        "metric = dc.metrics.Metric(dc.metrics.pearson_r2_score) # 피어슨 상관계수 평가지표 사용\n",
        "print(\"Training set score\")\n",
        "print(model.evaluate(train_dataset, [metric], transformers))\n",
        "print(\"Test set score\")\n",
        "print(model.evaluate(test_dataset, [metric], transformers))"
      ],
      "metadata": {
        "colab": {
          "base_uri": "https://localhost:8080/"
        },
        "id": "g1buFeXGhKHs",
        "outputId": "aef1b44d-d6d0-4abd-f5f5-a3e1d83295d0"
      },
      "execution_count": null,
      "outputs": [
        {
          "output_type": "stream",
          "name": "stdout",
          "text": [
            "Training set score\n",
            "{'pearson_r2_score': np.float64(0.945392959012276)}\n",
            "Test set score\n",
            "{'pearson_r2_score': np.float64(0.6922979533443355)}\n"
          ]
        }
      ]
    },
    {
      "cell_type": "code",
      "source": [
        "# 용해도 예측\n",
        "smiles = ['COC(C)(C)CCCC(C)CC=CC(C)=CC(=O)OC(C)C',\n",
        "          'CCOC(=O)CC',\n",
        "          'CSc1nc(NC(C)C)nc(NC(C)C)n1',\n",
        "          'CC(C#C)N(C)C(=O)Nc1ccc(Cl)cc1',\n",
        "          'Cc1cc2ccccc2cc1C']\n",
        "\n",
        "mols = [Chem.MolFromSmiles(s) for s in smiles] # SMILES 문자열 -> 분자 객체로 변환\n",
        "featurizer = dc.feat.ConvMolFeaturizer() # 분자를 Graph 구조로 변환하는 featurizer 정의\n",
        "x = featurizer.featurize(mols) # Node와 Edge로 이루어진 Graph 구조로 변환\n",
        "predicted_solubility = model.predict_on_batch(x)"
      ],
      "metadata": {
        "colab": {
          "base_uri": "https://localhost:8080/"
        },
        "id": "vllLIgE4KhFo",
        "outputId": "f036f9bd-48d0-4d67-9e71-4bd6f736ad96"
      },
      "execution_count": null,
      "outputs": [
        {
          "output_type": "stream",
          "name": "stderr",
          "text": [
            "[19:46:17] DEPRECATION WARNING: please use GetValence(getExplicit=False)\n",
            "[19:46:17] DEPRECATION WARNING: please use GetValence(getExplicit=False)\n",
            "[19:46:17] DEPRECATION WARNING: please use GetValence(getExplicit=False)\n",
            "[19:46:17] DEPRECATION WARNING: please use GetValence(getExplicit=False)\n",
            "[19:46:17] DEPRECATION WARNING: please use GetValence(getExplicit=False)\n",
            "[19:46:17] DEPRECATION WARNING: please use GetValence(getExplicit=False)\n",
            "[19:46:17] DEPRECATION WARNING: please use GetValence(getExplicit=False)\n",
            "[19:46:17] DEPRECATION WARNING: please use GetValence(getExplicit=False)\n",
            "[19:46:17] DEPRECATION WARNING: please use GetValence(getExplicit=False)\n",
            "[19:46:17] DEPRECATION WARNING: please use GetValence(getExplicit=False)\n",
            "[19:46:17] DEPRECATION WARNING: please use GetValence(getExplicit=False)\n",
            "[19:46:17] DEPRECATION WARNING: please use GetValence(getExplicit=False)\n",
            "[19:46:17] DEPRECATION WARNING: please use GetValence(getExplicit=False)\n",
            "[19:46:17] DEPRECATION WARNING: please use GetValence(getExplicit=False)\n",
            "[19:46:17] DEPRECATION WARNING: please use GetValence(getExplicit=False)\n",
            "[19:46:17] DEPRECATION WARNING: please use GetValence(getExplicit=False)\n",
            "[19:46:17] DEPRECATION WARNING: please use GetValence(getExplicit=False)\n",
            "[19:46:17] DEPRECATION WARNING: please use GetValence(getExplicit=False)\n",
            "[19:46:17] DEPRECATION WARNING: please use GetValence(getExplicit=False)\n",
            "[19:46:17] DEPRECATION WARNING: please use GetValence(getExplicit=False)\n",
            "[19:46:17] DEPRECATION WARNING: please use GetValence(getExplicit=False)\n",
            "[19:46:17] DEPRECATION WARNING: please use GetValence(getExplicit=False)\n",
            "[19:46:17] DEPRECATION WARNING: please use GetValence(getExplicit=False)\n",
            "[19:46:17] DEPRECATION WARNING: please use GetValence(getExplicit=False)\n",
            "[19:46:17] DEPRECATION WARNING: please use GetValence(getExplicit=False)\n",
            "[19:46:17] DEPRECATION WARNING: please use GetValence(getExplicit=False)\n",
            "[19:46:17] DEPRECATION WARNING: please use GetValence(getExplicit=False)\n",
            "[19:46:17] DEPRECATION WARNING: please use GetValence(getExplicit=False)\n",
            "[19:46:17] DEPRECATION WARNING: please use GetValence(getExplicit=False)\n",
            "[19:46:17] DEPRECATION WARNING: please use GetValence(getExplicit=False)\n",
            "[19:46:17] DEPRECATION WARNING: please use GetValence(getExplicit=False)\n",
            "[19:46:17] DEPRECATION WARNING: please use GetValence(getExplicit=False)\n",
            "[19:46:17] DEPRECATION WARNING: please use GetValence(getExplicit=False)\n",
            "[19:46:17] DEPRECATION WARNING: please use GetValence(getExplicit=False)\n",
            "[19:46:17] DEPRECATION WARNING: please use GetValence(getExplicit=False)\n",
            "[19:46:17] DEPRECATION WARNING: please use GetValence(getExplicit=False)\n",
            "[19:46:17] DEPRECATION WARNING: please use GetValence(getExplicit=False)\n",
            "[19:46:17] DEPRECATION WARNING: please use GetValence(getExplicit=False)\n",
            "[19:46:17] DEPRECATION WARNING: please use GetValence(getExplicit=False)\n",
            "[19:46:17] DEPRECATION WARNING: please use GetValence(getExplicit=False)\n",
            "[19:46:17] DEPRECATION WARNING: please use GetValence(getExplicit=False)\n",
            "[19:46:17] DEPRECATION WARNING: please use GetValence(getExplicit=False)\n",
            "[19:46:17] DEPRECATION WARNING: please use GetValence(getExplicit=False)\n",
            "[19:46:17] DEPRECATION WARNING: please use GetValence(getExplicit=False)\n",
            "[19:46:17] DEPRECATION WARNING: please use GetValence(getExplicit=False)\n",
            "[19:46:17] DEPRECATION WARNING: please use GetValence(getExplicit=False)\n",
            "[19:46:17] DEPRECATION WARNING: please use GetValence(getExplicit=False)\n",
            "[19:46:17] DEPRECATION WARNING: please use GetValence(getExplicit=False)\n",
            "[19:46:17] DEPRECATION WARNING: please use GetValence(getExplicit=False)\n",
            "[19:46:17] DEPRECATION WARNING: please use GetValence(getExplicit=False)\n",
            "[19:46:17] DEPRECATION WARNING: please use GetValence(getExplicit=False)\n",
            "[19:46:17] DEPRECATION WARNING: please use GetValence(getExplicit=False)\n",
            "[19:46:17] DEPRECATION WARNING: please use GetValence(getExplicit=False)\n",
            "[19:46:17] DEPRECATION WARNING: please use GetValence(getExplicit=False)\n",
            "[19:46:17] DEPRECATION WARNING: please use GetValence(getExplicit=False)\n",
            "[19:46:17] DEPRECATION WARNING: please use GetValence(getExplicit=False)\n",
            "[19:46:17] DEPRECATION WARNING: please use GetValence(getExplicit=False)\n",
            "[19:46:17] DEPRECATION WARNING: please use GetValence(getExplicit=False)\n",
            "[19:46:17] DEPRECATION WARNING: please use GetValence(getExplicit=False)\n",
            "[19:46:17] DEPRECATION WARNING: please use GetValence(getExplicit=False)\n",
            "[19:46:17] DEPRECATION WARNING: please use GetValence(getExplicit=False)\n",
            "[19:46:17] DEPRECATION WARNING: please use GetValence(getExplicit=False)\n",
            "[19:46:17] DEPRECATION WARNING: please use GetValence(getExplicit=False)\n",
            "[19:46:17] DEPRECATION WARNING: please use GetValence(getExplicit=False)\n",
            "[19:46:17] DEPRECATION WARNING: please use GetValence(getExplicit=False)\n",
            "[19:46:17] DEPRECATION WARNING: please use GetValence(getExplicit=False)\n",
            "[19:46:17] DEPRECATION WARNING: please use GetValence(getExplicit=False)\n",
            "[19:46:17] DEPRECATION WARNING: please use GetValence(getExplicit=False)\n",
            "[19:46:17] DEPRECATION WARNING: please use GetValence(getExplicit=False)\n",
            "[19:46:17] DEPRECATION WARNING: please use GetValence(getExplicit=False)\n",
            "[19:46:17] DEPRECATION WARNING: please use GetValence(getExplicit=False)\n",
            "[19:46:17] DEPRECATION WARNING: please use GetValence(getExplicit=False)\n",
            "[19:46:17] DEPRECATION WARNING: please use GetValence(getExplicit=False)\n"
          ]
        }
      ]
    },
    {
      "cell_type": "code",
      "source": [
        "for m,s in zip(smiles, predicted_solubility):\n",
        "    print()\n",
        "    print('Molecule:', m)\n",
        "    print('Predicted solubility:', s)"
      ],
      "metadata": {
        "colab": {
          "base_uri": "https://localhost:8080/"
        },
        "id": "VTqKkBcoVOxr",
        "outputId": "9f07b185-2f26-4a80-a7a3-6e2d077659b3"
      },
      "execution_count": null,
      "outputs": [
        {
          "output_type": "stream",
          "name": "stdout",
          "text": [
            "\n",
            "Molecule: COC(C)(C)CCCC(C)CC=CC(C)=CC(=O)OC(C)C\n",
            "Predicted solubility: [-0.59185123]\n",
            "\n",
            "Molecule: CCOC(=O)CC\n",
            "Predicted solubility: [1.4190775]\n",
            "\n",
            "Molecule: CSc1nc(NC(C)C)nc(NC(C)C)n1\n",
            "Predicted solubility: [-0.00503433]\n",
            "\n",
            "Molecule: CC(C#C)N(C)C(=O)Nc1ccc(Cl)cc1\n",
            "Predicted solubility: [0.01909553]\n",
            "\n",
            "Molecule: Cc1cc2ccccc2cc1C\n",
            "Predicted solubility: [-0.29576275]\n"
          ]
        }
      ]
    },
    {
      "cell_type": "markdown",
      "source": [
        "# SMART 문자열\n",
        "- 분자 내 원자들의 특정 패턴 찾기"
      ],
      "metadata": {
        "id": "jY-5IKqgxIJ7"
      }
    },
    {
      "cell_type": "code",
      "source": [
        "from rdkit.Chem.Draw import MolsToGridImage\n",
        "smiles_for_smart = [\"CCCCC\", \"CCOCC\", \"CCNCC\", \"CCSCC\"]\n",
        "mols_for_smart = [Chem.MolFromSmiles(s) for s in smiles_for_smart]\n",
        "MolsToGridImage(mols_for_smart, molsPerRow=4, subImgSize=(300, 300))"
      ],
      "metadata": {
        "colab": {
          "base_uri": "https://localhost:8080/",
          "height": 317
        },
        "id": "B1aY0D3I07lu",
        "outputId": "b17ece94-0d30-485a-cc87-8fc90487c5f1"
      },
      "execution_count": null,
      "outputs": [
        {
          "output_type": "execute_result",
          "data": {
            "image/png": "[encoded data removed]",
            "text/plain": [
              "<IPython.core.display.Image object>"
            ]
          },
          "metadata": {},
          "execution_count": 15
        }
      ]
    },
    {
      "cell_type": "code",
      "source": [
        "query = Chem.MolFromSmarts(\"CCC\")\n",
        "match_list = [mole.GetSubstructMatch(query) for mole in mols_for_smart]\n",
        "match_list"
      ],
      "metadata": {
        "colab": {
          "base_uri": "https://localhost:8080/"
        },
        "id": "RHglTrQ41nB_",
        "outputId": "9853f9af-cc9f-45dc-9a72-5bb140a7effa"
      },
      "execution_count": null,
      "outputs": [
        {
          "output_type": "execute_result",
          "data": {
            "text/plain": [
              "[(0, 1, 2), (), (), ()]"
            ]
          },
          "metadata": {},
          "execution_count": 16
        }
      ]
    },
    {
      "cell_type": "code",
      "source": [
        "MolsToGridImage(mols_for_smart, molsPerRow=4, subImgSize=(300, 300), highlightAtomLists=match_list)"
      ],
      "metadata": {
        "colab": {
          "base_uri": "https://localhost:8080/",
          "height": 317
        },
        "id": "aq0uag5U1zIz",
        "outputId": "e8e08586-e506-41e4-d3bb-704d6a34598f"
      },
      "execution_count": null,
      "outputs": [
        {
          "output_type": "execute_result",
          "data": {
            "image/png": "[encoded data removed]",
            "text/plain": [
              "<IPython.core.display.Image object>"
            ]
          },
          "metadata": {},
          "execution_count": 17
        }
      ]
    },
    {
      "cell_type": "code",
      "source": [
        "query = Chem.MolFromSmarts(\"C[C,N,O]C\") # 2개의 탄소 원자 사이에 탄소 or 산소 or 질소 원자 하나가 결합해 있음\n",
        "match_list = [mole.GetSubstructMatch(query) for mole in mols_for_smart]\n",
        "match_list"
      ],
      "metadata": {
        "colab": {
          "base_uri": "https://localhost:8080/"
        },
        "id": "LxvjDExV2kXs",
        "outputId": "1973357d-fb7e-4f6f-e06d-24645830409d"
      },
      "execution_count": null,
      "outputs": [
        {
          "output_type": "execute_result",
          "data": {
            "text/plain": [
              "[(0, 1, 2), (1, 2, 3), (1, 2, 3), ()]"
            ]
          },
          "metadata": {},
          "execution_count": 18
        }
      ]
    },
    {
      "cell_type": "code",
      "source": [
        "MolsToGridImage(mols_for_smart, molsPerRow=4, subImgSize=(300, 300), highlightAtomLists=match_list)"
      ],
      "metadata": {
        "colab": {
          "base_uri": "https://localhost:8080/",
          "height": 317
        },
        "id": "aI8SOiOm20eV",
        "outputId": "24df93f8-157b-4c15-8a5d-5881de8e2448"
      },
      "execution_count": null,
      "outputs": [
        {
          "output_type": "execute_result",
          "data": {
            "image/png": "[encoded data removed]",
            "text/plain": [
              "<IPython.core.display.Image object>"
            ]
          },
          "metadata": {},
          "execution_count": 19
        }
      ]
    },
    {
      "cell_type": "markdown",
      "source": [
        "### 확인 문제\n",
        "- wildcard (*)를 사용해서 \"?\"에 들어갈 문자열을 작성하세요"
      ],
      "metadata": {
        "id": "Qb4MmQ_m3Gyi"
      }
    },
    {
      "cell_type": "code",
      "source": [
        "wildcard_text = \"?\"\n",
        "query = Chem.MolFromSmarts(wildcard_text)\n",
        "match_list = [mole.GetSubstructMatch(query) for mole in mols_for_smart]\n",
        "match_list"
      ],
      "metadata": {
        "colab": {
          "base_uri": "https://localhost:8080/"
        },
        "id": "XD2TPh4C18DW",
        "outputId": "2ee9d7ee-fdbb-4a32-d43d-459d6fdcad20"
      },
      "execution_count": null,
      "outputs": [
        {
          "output_type": "execute_result",
          "data": {
            "text/plain": [
              "[(0, 1, 2), (1, 2, 3), (1, 2, 3), (1, 2, 3)]"
            ]
          },
          "metadata": {},
          "execution_count": 20
        }
      ]
    },
    {
      "cell_type": "code",
      "source": [
        "MolsToGridImage(mols_for_smart, molsPerRow=4, subImgSize=(300, 300), highlightAtomLists=match_list)"
      ],
      "metadata": {
        "colab": {
          "base_uri": "https://localhost:8080/",
          "height": 317
        },
        "id": "tP7Ysv3r2I2o",
        "outputId": "c2015d30-81a4-4382-e592-039a2a6f4ed4"
      },
      "execution_count": null,
      "outputs": [
        {
          "output_type": "execute_result",
          "data": {
            "image/png": "[encoded data removed]",
            "text/plain": [
              "<IPython.core.display.Image object>"
            ]
          },
          "metadata": {},
          "execution_count": 21
        }
      ]
    }
  ],
  "metadata": {
    "colab": {
      "provenance": [],
      "include_colab_link": true
    },
    "kernelspec": {
      "display_name": "Python 3",
      "name": "python3"
    },
    "language_info": {
      "name": "python"
    }
  },
  "nbformat": 4,
  "nbformat_minor": 0
}